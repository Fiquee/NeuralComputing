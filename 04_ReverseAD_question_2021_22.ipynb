{
  "cells": [
    {
      "cell_type": "markdown",
      "metadata": {
        "deletable": false,
        "editable": false,
        "id": "5eJRjRqu-c_A",
        "nbgrader": {
          "checksum": "ef88843b66adc91569384659597bfa0d",
          "grade": false,
          "grade_id": "cell-3f061ea27f528fcf",
          "locked": true,
          "schema_version": 1,
          "solution": false
        }
      },
      "source": [
        "#Reverse Mode Automatic Differentiation (AD)\n",
        "\n",
        "Dynamic Reverse mode AD can be implemented by declaring a class `Var` to represent a value and the child expressions that the value depends on. We've provided the implementation that was shown in the lecture slides. \n",
        "\n",
        "Tasks:\n",
        "\n",
        "1. Complete Addition (`__add__`) method below. \n",
        "2. Complete division (`__truediv__`), subtraction (`__sub__`) and power (`__pow__`)?"
      ]
    },
    {
      "cell_type": "code",
      "execution_count": 2,
      "metadata": {
        "deletable": false,
        "id": "Fh_7z_CJ-c_Q",
        "nbgrader": {
          "checksum": "2644b153f82b6e872e63cb5ead2d529f",
          "grade": false,
          "grade_id": "cell-b23d219550cd2934",
          "locked": false,
          "schema_version": 1,
          "solution": true
        }
      },
      "outputs": [],
      "source": [
        "import math\n",
        "\n",
        "class Var:\n",
        "    def __init__(self, value):\n",
        "        self.value = value\n",
        "        self.children = []\n",
        "        self.grad_value = None #Initialize to None, which means it's not yet evaluated\n",
        "\n",
        "    def grad(self):\n",
        "        #recurse only if the value is not yet cached\n",
        "        if self.grad_value is None:\n",
        "            #calculate derivative using chain rule\n",
        "            self.grad_value = sum(weight * var.grad()\n",
        "                                  for weight, var in self.children)\n",
        "        return self.grad_value\n",
        "    \n",
        "    def __str__(self):\n",
        "        return str(self.value)\n",
        "\n",
        "    def __mul__(self, other):\n",
        "\n",
        "        z = Var(self.value * other.value)\n",
        "      \n",
        "        #weight = dz/dself=other.value\n",
        "        self.children.append((other.value, z))\n",
        "      \n",
        "        #weight = dz/dother=self.value\n",
        "        other.children.append((self.value, z))\n",
        "        return z\n",
        "\n",
        "# For a=x*y a is a new Var that is a child of both x and y\n",
        "\n",
        "    def __add__(self, other):\n",
        "      z = Var(self.value + other.value)\n",
        "      self.children.append((1, z))\n",
        "      other.children.append((1, z))\n",
        "      \n",
        "      return z\n",
        "    \n",
        "    def __sub__(self,other):\n",
        "        z = Var(self.value - other.value)\n",
        "        self.children.append((1, z))\n",
        "        other.children.append((-1, z))\n",
        "\n",
        "        return z\n",
        "    \n",
        "    def __truediv__(self,other):\n",
        "        z = Var(self.value / other.value)\n",
        "        self.children.append((1/other.value,z))\n",
        "        other.children.append((-self.value/(other.value**2),z))\n",
        "\n",
        "    #Add other functions as well\n",
        "\n",
        "\n",
        "def sin(x):\n",
        "    z = Var(math.sin(x.value))\n",
        "    x.children.append((math.cos(x.value), z))\n",
        "    return z"
      ]
    },
    {
      "cell_type": "code",
      "execution_count": 3,
      "metadata": {
        "deletable": false,
        "editable": false,
        "id": "F6CNuLk0-c_S",
        "nbgrader": {
          "checksum": "afce3f80a9f8278e0ea2815a23a09c95",
          "grade": true,
          "grade_id": "cell-d2124fb6ca76110f",
          "locked": true,
          "points": 2,
          "schema_version": 1,
          "solution": false
        }
      },
      "outputs": [
        {
          "name": "stdout",
          "output_type": "stream",
          "text": [
            "3\n"
          ]
        }
      ],
      "source": [
        "# Tests\n",
        "\n",
        "a = Var(1)\n",
        "b = Var(2)\n",
        "z = a+b\n",
        "print(z)\n",
        "\n",
        "# Var(1) + Var(1) / Var(1) - Var(1)**Var(1)\n"
      ]
    },
    {
      "cell_type": "markdown",
      "metadata": {
        "id": "qwUhQNOFiXvJ"
      },
      "source": [
        "#Forward computation first\n",
        "1. Try running the following code to compute the value of the function  $z=a+b, a=x*y, b =sin(x)$  given  $x=0.5$  and  $y=4.2$.\n",
        "2. Print out the children of x,y,a,b with their derivatives $\\frac{\\partial a}{\\partial x},\\frac{\\partial b}{\\partial x},\\frac{\\partial a}{\\partial y},\\frac{\\partial z}{\\partial a},\\frac{\\partial z}{\\partial b}$\n"
      ]
    },
    {
      "cell_type": "code",
      "execution_count": 4,
      "metadata": {
        "id": "C18AKo51i3Ve"
      },
      "outputs": [
        {
          "name": "stdout",
          "output_type": "stream",
          "text": [
            "Children of x is [(4.2, <__main__.Var object at 0x0000012BE82ADCD0>), (0.8775825618903728, <__main__.Var object at 0x0000012BE82ADFD0>)] and its derivative is 5.077582561890373\n",
            "Children of y is [(0.5, <__main__.Var object at 0x0000012BE82ADCD0>)] and its derivative is 0.5\n"
          ]
        }
      ],
      "source": [
        "x=Var(0.5)\n",
        "y=Var(4.2)\n",
        "\n",
        "a=x*y\n",
        "b=sin(x)\n",
        "z=a+b\n",
        "z.grad_value = 1\n",
        "\n",
        "#Complete the code here\n",
        "print(f'Children of x is {x.children} and its derivative is {x.grad()}')\n",
        "print(f'Children of y is {y.children} and its derivative is {y.grad()}')"
      ]
    },
    {
      "cell_type": "markdown",
      "metadata": {
        "id": "NpnFmDzMk134"
      },
      "source": [
        "#Reverse mode computation\n",
        "\n",
        "So far we have done forward computing as we go. But we haven't computed $\\frac{\\partial z}{\\partial x}$ and $\\frac{\\partial z}{\\partial y}$ which is what we want essentially.\n",
        "\n",
        "1. Run the code below\n",
        "2. Print out the gradient of each variable and complete the code"
      ]
    },
    {
      "cell_type": "code",
      "execution_count": 5,
      "metadata": {
        "id": "Md1CQGt6k5N3"
      },
      "outputs": [
        {
          "ename": "SyntaxError",
          "evalue": "invalid syntax (2576645743.py, line 1)",
          "output_type": "error",
          "traceback": [
            "\u001b[1;36m  Input \u001b[1;32mIn [5]\u001b[1;36m\u001b[0m\n\u001b[1;33m    z.grad_value=1  z.grad_value = 1.0 #Note that we have to 'seed' the gradient of z to 1 (e.g. ∂z/∂z=1) before computing grads\u001b[0m\n\u001b[1;37m                    ^\u001b[0m\n\u001b[1;31mSyntaxError\u001b[0m\u001b[1;31m:\u001b[0m invalid syntax\n"
          ]
        }
      ],
      "source": [
        "z.grad_value=1  z.grad_value = 1.0 #Note that we have to 'seed' the gradient of z to 1 (e.g. ∂z/∂z=1) before computing grads\n",
        "\n",
        "print('z:', z)\n",
        "print(\"dz/dx: \",x.grad())\n",
        "\n",
        "#Complete the code here\n",
        "print(\"dz/dy: \")\n",
        "\n",
        "\n",
        "\n",
        "#Test your functions\n",
        "assert abs(z.value - 2.579425538604203) <= 1e-15\n",
        "assert abs(x.grad() - (y.value + math.cos(x.value))) <= 1e-15\n",
        "assert abs(y.grad() - x.value) <= 1e-15"
      ]
    }
  ],
  "metadata": {
    "colab": {
      "name": "04_ReverseAD_question_2021_22.ipynb",
      "provenance": []
    },
    "kernelspec": {
      "display_name": "Python 3",
      "language": "python",
      "name": "python3"
    },
    "language_info": {
      "codemirror_mode": {
        "name": "ipython",
        "version": 3
      },
      "file_extension": ".py",
      "mimetype": "text/x-python",
      "name": "python",
      "nbconvert_exporter": "python",
      "pygments_lexer": "ipython3",
      "version": "3.9.6"
    }
  },
  "nbformat": 4,
  "nbformat_minor": 0
}
