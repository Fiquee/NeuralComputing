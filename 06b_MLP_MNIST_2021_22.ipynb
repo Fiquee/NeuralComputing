{
  "cells": [
    {
      "cell_type": "markdown",
      "metadata": {
        "id": "o8b-S667EYyb"
      },
      "source": [
        "##Classifying MNIST handwriting digits with Multi Layer Perceptron(MLP)\n",
        "\n",
        "* In this session, we will create a fully connected MLP with one hidden layer, train and evaluate the network on the MNIST dataset. \n",
        "* The MNIST dataset is small enough that we can use a simple MLP for training( (The MNIST images are relatively small)"
      ]
    },
    {
      "cell_type": "markdown",
      "metadata": {
        "id": "r1JnsNcWI5N2"
      },
      "source": [
        "##What does our planned MLP looks like? Draw the diagram \n",
        "\n",
        "* How many inputs?\n",
        "* How many hidden layers?\n",
        "* How many neurons in the hidden layers?\n",
        "* How many neurons in the output layer?\n",
        "* What about activation functions?\n"
      ]
    },
    {
      "cell_type": "markdown",
      "metadata": {
        "id": "DSCH5t2Q9ft-"
      },
      "source": [
        "##The Main Steps\n",
        "\n",
        "Generally, the main steps for building a Deep Learning Neural Network are as follows. \n",
        "\n",
        "1. Import libraries, seed\n",
        "2. Set data preprocessing (transform), download dataset, split train and test \n",
        "3. Set Dataloaders \n",
        "4. Define the model class\n",
        "5. Set loss function, optimizer and learning rate\n",
        "6. Training : Load the data\n",
        "7. Training : Zero the parameter gradients\n",
        "8. Training : Compute fwd\n",
        "9. Training : Compute loss\n",
        "10. Training : Compute backward,set optimizer(update weights)\n",
        "10. Evaluation of trained model on test dataset"
      ]
    },
    {
      "cell_type": "markdown",
      "metadata": {
        "id": "BNFEQyulhw-t"
      },
      "source": [
        "##1. Import libraries, seeding random for reproducibility"
      ]
    },
    {
      "cell_type": "code",
      "execution_count": 1,
      "metadata": {
        "id": "ZWLMUg75h1WD"
      },
      "outputs": [],
      "source": [
        "import torch\n",
        "import torch.nn.functional as F\n",
        "import torch.nn as nn\n",
        "import numpy as np \n",
        "from torchvision import datasets\n",
        "from torchvision import transforms\n",
        "from torch.utils.data import DataLoader\n",
        "\n",
        "seed = 7\n",
        "torch.manual_seed(seed)\n",
        "torch.backends.cudnn.deterministic = True  \n",
        "torch.backends.cudnn.benchmark = False #for a small dataset, simple network , this is not really needed\n",
        "np.random.seed(seed)\n"
      ]
    },
    {
      "cell_type": "markdown",
      "metadata": {
        "id": "b6hjWnsMXkcC"
      },
      "source": [
        "##2. Download the MNIST dataset and Data pre-processing\n",
        "\n",
        "* Each PIL image is converted to a PyTorch tensor using transforms.ToTensor()\n",
        "* The 28*28 image data is flattened into a vector using lambda which is a customized transformation. Here lambda returns a new view of the input tensor which is the product of the input tensor's dimension. \n",
        "\n",
        "* We are also splitting the MNIST dataset into training and test dataset\n",
        "\n",
        "\n",
        "\n",
        "\n",
        "\n",
        "\n"
      ]
    },
    {
      "cell_type": "code",
      "execution_count": 2,
      "metadata": {
        "id": "cUuXmfLu2qAC"
      },
      "outputs": [
        {
          "name": "stderr",
          "output_type": "stream",
          "text": [
            "c:\\Users\\Afiq Irfan\\AppData\\Local\\Programs\\Python\\Python39\\lib\\site-packages\\torchvision\\datasets\\mnist.py:498: UserWarning: The given NumPy array is not writeable, and PyTorch does not support non-writeable tensors. This means you can write to the underlying (supposedly non-writeable) NumPy array using the tensor. You may want to copy the array to protect its data or make it writeable before converting it to a tensor. This type of warning will be suppressed for the rest of this program. (Triggered internally at  ..\\torch\\csrc\\utils\\tensor_numpy.cpp:180.)\n",
            "  return torch.from_numpy(parsed.astype(m[2], copy=False)).view(*s)\n"
          ]
        }
      ],
      "source": [
        "\n",
        "transformCustom = transforms.Compose([\n",
        "                                transforms.ToTensor(), #this convert to tensor\n",
        "                                transforms.Lambda(lambda x:x.view(-1))  #this flatten 28*28 into a 784 vector for each image\n",
        "])\n",
        "\n",
        "\n",
        "train = datasets.MNIST(root='.',train=True,transform=transformCustom, download=True)\n",
        "test = datasets.MNIST(root='.', train=False, transform=transformCustom,download=True)\n",
        "\n",
        "\n"
      ]
    },
    {
      "cell_type": "markdown",
      "metadata": {
        "id": "YUt7Ri6UlD6w"
      },
      "source": [
        "#3. DataLoaders\n",
        "\n",
        "* Previously like in the perceptron assignment, we passed data manually. Depends on the implementation, for each iteration sometimes we pass one row of data, or one mini batch of data, or one whole batch of data. And for the case of Stochastic Gradient Descent, we need to randomly shuffle the dataset or randomly pick one sample from the dataset i.e we have to do it manually\n",
        "\n",
        "* In PyTorch, we can use DataLoader class that automatically pass the batches of data fetched from a Dataset object. We can also set if we want the DataLoader to shuffle the data and the size of each batch of data.\n",
        "\n",
        "* Each batch is a tuple containing the images in the first element and the labels in the second"
      ]
    },
    {
      "cell_type": "code",
      "execution_count": 3,
      "metadata": {
        "id": "lj8rAV1rlG6j"
      },
      "outputs": [],
      "source": [
        "#Set DataLoader\n",
        "batchSize = 128  # Rule of thumb is to set to the power of 2. In this case 2^7\n",
        "train_loader = DataLoader(train, batch_size=batchSize,shuffle=True)\n",
        "test_loader = DataLoader(test,batch_size=batchSize, shuffle=False) # no need to shuffle test data\n"
      ]
    },
    {
      "cell_type": "markdown",
      "metadata": {
        "id": "CJeiPHmXEh62"
      },
      "source": [
        "#Task:\n",
        "\n",
        "What is the shape of the train data and train label?\n",
        "\n",
        "How many batches are there? Is the size for each batch the same ? "
      ]
    },
    {
      "cell_type": "code",
      "execution_count": 12,
      "metadata": {},
      "outputs": [
        {
          "name": "stdout",
          "output_type": "stream",
          "text": [
            "torch.Size([60000, 28, 28])\n",
            "torch.Size([60000])\n"
          ]
        },
        {
          "name": "stderr",
          "output_type": "stream",
          "text": [
            "c:\\Users\\Afiq Irfan\\AppData\\Local\\Programs\\Python\\Python39\\lib\\site-packages\\torchvision\\datasets\\mnist.py:52: UserWarning: train_labels has been renamed targets\n",
            "  warnings.warn(\"train_labels has been renamed targets\")\n"
          ]
        }
      ],
      "source": [
        "print(train_loader.dataset.data.size()[0])\n",
        "print(train_loader.dataset.train_labels.size()[0])"
      ]
    },
    {
      "cell_type": "code",
      "execution_count": 11,
      "metadata": {
        "colab": {
          "base_uri": "https://localhost:8080/"
        },
        "id": "kI7w4INaEzgY",
        "outputId": "1d70c949-b47c-42d2-837d-b312df6c8eb8"
      },
      "outputs": [
        {
          "name": "stdout",
          "output_type": "stream",
          "text": [
            "There are 469 batches in train_loader\n"
          ]
        }
      ],
      "source": [
        "count = 0\n",
        "for xb, yb in train_loader:\n",
        "  count+=1\n",
        "print(f'There are {count} batches in train_loader')\n",
        "#How many batches are there ?   #128*468+96=60,000"
      ]
    },
    {
      "cell_type": "markdown",
      "metadata": {
        "id": "nXiAgnkOoe6a"
      },
      "source": [
        "#Task: \n",
        "Do the same for test data (test_loader)"
      ]
    },
    {
      "cell_type": "code",
      "execution_count": 13,
      "metadata": {
        "colab": {
          "base_uri": "https://localhost:8080/"
        },
        "id": "e1qqOt_tmxHg",
        "outputId": "9d1cded4-7fb6-40c4-fae5-26c8d2bf4d8b"
      },
      "outputs": [
        {
          "name": "stdout",
          "output_type": "stream",
          "text": [
            "There are 79 batches in test_loader\n"
          ]
        }
      ],
      "source": [
        "count=0\n",
        "for x, y in test_loader:\n",
        "  count += 1\n",
        "print(f'There are {count} batches in test_loader') \n",
        " #78*128+16=10,000"
      ]
    },
    {
      "cell_type": "markdown",
      "metadata": {
        "id": "kbiHO3EGRmYV"
      },
      "source": [
        "#Define the Neural Net model/class (MLP with one hidden layer, fully connected)\n",
        "\n",
        "* Define our model in a class that extends nn.Module. \n",
        "* nn.Module subclasses must do a minimum of one thing: implement the forward method which takes a batch of data and performs the forward-pass. \n",
        "\n",
        "* PyTorch's autograd system will take care of computing the gradients of the forward pass for us. In the code below we'll also make use of the constructor of our model to instantiate the hidden and output layers.\n",
        "\n",
        "\n",
        "* The nn.Module class defines a instance variable called `training` that is set to True when the model is being trained and False when it is being evaluated after being trained. \n",
        "\n",
        "* In our model definition we've used a softmax activation function on the output layer to turn the outputs into probability-like values, but have only set this to be enabled when we are not training the model. We've done this because we will use PyTorch's implementation of Cross Entropy Loss (nn.CrossEntropyLoss) during training which **implicitly** adds a softmax before a logarithmic loss.\n",
        "\n",
        "* In our case the softmax isn't actually necessary for model evaluation if we're only interested in the most likely class; the logits (unscaled log probabilities) provided by the final fully connected layer before the softmax can be used directly as the largest logit will correspond to the most likely class.\n"
      ]
    },
    {
      "cell_type": "code",
      "execution_count": 14,
      "metadata": {
        "id": "g8BT_CFp5S-H"
      },
      "outputs": [],
      "source": [
        "class MLP(nn.Module):\n",
        "  def __init__(self,input_size, hidden_size,num_classes):\n",
        "    super(MLP,self).__init__()\n",
        "\n",
        "    self.layer1 = nn.Linear(input_size,hidden_size) \n",
        "    self.layer2 = nn.Linear(hidden_size,num_classes)\n",
        "\n",
        "  def forward(self,x): \n",
        "\n",
        "    out = self.layer1(x)\n",
        "    #out = F.sigmoid(out) \n",
        "    out = torch.sigmoid(out)\n",
        "    out = self.layer2(out)\n",
        " \n",
        "    if not self.training:\n",
        "      out = F.softmax(out,dim=1)\n",
        "    return out\n",
        " "
      ]
    },
    {
      "cell_type": "markdown",
      "metadata": {
        "id": "oPxwE0FXRvtw"
      },
      "source": [
        "#5 Set loss function, optimizer\n",
        "#6-10 Training\n",
        "\n",
        "\n",
        "\n",
        "\n",
        "Training and Evaluating the Model\n",
        "* One of the design decisions of PyTorch is that everything should be explicit so we have full control over our models and the training process. \n",
        "\n",
        "* This means that we actually need to write the model training loop by hand, and perform each of the various operations (perform the forward-pass, compute the loss, perform the backward-pass, and update the weights). \n",
        "\n",
        "* In the code below we'll fit the model to the data over several epochs using batches of 128 images provided by the DataLoader defined previously. \n",
        "\n",
        "* We'll make use of the ADAM optimiser as it broadly tends to work well practically despite its limitations."
      ]
    },
    {
      "cell_type": "code",
      "execution_count": 57,
      "metadata": {
        "colab": {
          "base_uri": "https://localhost:8080/"
        },
        "id": "lcBNvprNR7Xr",
        "outputId": "0c54075a-c058-47e7-ffa3-c0d7cc3c77b7"
      },
      "outputs": [
        {
          "name": "stdout",
          "output_type": "stream",
          "text": [
            "Epoch: 1  loss: 224.84893709421158\n",
            "Epoch: 2  loss: 110.55411638319492\n",
            "Epoch: 3  loss: 84.45045972242951\n"
          ]
        }
      ],
      "source": [
        "seed = 7\n",
        "torch.manual_seed(seed)\n",
        "model = MLP(784, 784, 10) #input_size,hidden_size,num_classes\n",
        "\n",
        "#5. Set loss function and optimizer\n",
        "loss_fn = nn.CrossEntropyLoss() \n",
        "opt = torch.optim.Adam(model.parameters()) #optimizer, optimization strategy-to escape the local minima and to converge quickly\n",
        "#Rule of thumb for optimizer\n",
        "#1. if you want to keep things simple. use ADAM\n",
        "#2. if you have time, then use SGD, and tune the learning rate/parameters \n",
        "#3. if you are implementing a paper, use the same strategy as what the authors are using \n",
        "\n",
        "epochSize =3 #obviously this isn't enough\n",
        "loss_history = []\n",
        "loss_minibatch_history = []\n",
        "\n",
        "for epoch in range(epochSize): #this training part can be made into a function, or defined as function of class MLP\n",
        "  \n",
        "   #model.train() #by default, this is set to true. so not really needed. what is important is model.eval() that we'll see that later\n",
        "   #refer https://pytorch.org/docs/stable/generated/torch.nn.Module.html for more details.\n",
        "\n",
        "\n",
        "  loss = 0\n",
        "  # 6. Load the data \n",
        "  for input_batch, target_batch in train_loader:\n",
        "\n",
        "    #7. Zero the gradients\n",
        "    opt.zero_grad() \n",
        "    \n",
        "    #8. Forward pass\n",
        "    predict_batch = model(input_batch) \n",
        "    \n",
        "    #9. Compute loss\n",
        "    loss_batch = loss_fn(predict_batch,target_batch)  \n",
        "    \n",
        "    #10. Backward pass and update weights\n",
        "    loss_batch.backward() \n",
        "    opt.step()\n",
        "\n",
        "    loss_minibatch_history.append(loss_batch.item())\n",
        "    loss += loss_batch.item() #store the loss\n",
        "\n",
        "    \n",
        "  loss_history.append(loss)\n",
        "  print(f'Epoch: {epoch+1}  loss: {loss}')"
      ]
    },
    {
      "cell_type": "markdown",
      "metadata": {
        "id": "EkEi-hH2jvmr"
      },
      "source": [
        "#Task: Visualize epoch vs loss/cost and minibatches vs loss/cost\n",
        "\n",
        "\n",
        "* In the above we printed out the total loss at the end of each epoch. With your own code, plot the loss.\n",
        "\n"
      ]
    },
    {
      "cell_type": "code",
      "execution_count": 19,
      "metadata": {},
      "outputs": [],
      "source": [
        "import matplotlib.pyplot as plt"
      ]
    },
    {
      "cell_type": "code",
      "execution_count": 58,
      "metadata": {
        "id": "OZBB8Us98GPm"
      },
      "outputs": [
        {
          "data": {
            "text/plain": [
              "Text(0, 0.5, 'loss')"
            ]
          },
          "execution_count": 58,
          "metadata": {},
          "output_type": "execute_result"
        },
        {
          "data": {
            "image/png": "[encoded data removed]",
            "text/plain": [
              "<Figure size 432x288 with 1 Axes>"
            ]
          },
          "metadata": {
            "needs_background": "light"
          },
          "output_type": "display_data"
        }
      ],
      "source": [
        "#plot the loss by epochs, minibatches here\n",
        "plt.plot(loss_history)\n",
        "plt.xlabel(\"epoch\")\n",
        "plt.ylabel(\"loss\")"
      ]
    },
    {
      "cell_type": "code",
      "execution_count": 59,
      "metadata": {},
      "outputs": [
        {
          "data": {
            "text/plain": [
              "Text(0, 0.5, 'loss')"
            ]
          },
          "execution_count": 59,
          "metadata": {},
          "output_type": "execute_result"
        },
        {
          "data": {
            "image/png": "[encoded data removed]",
            "text/plain": [
              "<Figure size 432x288 with 1 Axes>"
            ]
          },
          "metadata": {
            "needs_background": "light"
          },
          "output_type": "display_data"
        }
      ],
      "source": [
        "plt.plot(loss_minibatch_history)\n",
        "plt.xlabel(\"Minibatch\")\n",
        "plt.ylabel(\"loss\")"
      ]
    },
    {
      "cell_type": "markdown",
      "metadata": {
        "id": "i8eZt4DYf5mz"
      },
      "source": [
        "#Task: Create a function that evaluates trained model on the training dataset\n",
        "\n",
        "* Compute the overall accuracy of the training set. Note that you need a call to model.eval() - this sets the model into evaluation mode and supresses non-training things (gradients, and things such as dropout being applied/computed)."
      ]
    },
    {
      "cell_type": "code",
      "execution_count": 72,
      "metadata": {
        "id": "20Z7OkDUiI78"
      },
      "outputs": [],
      "source": [
        "def evaluate_model(data_loader): #or def compute_accuracy():  , use whatever conventions that you like\n",
        "\n",
        "  wrong_pred = 0\n",
        "  num_data = data_loader.dataset.data.size()[0]\n",
        "  model.eval() # sets the model in evaluation mode \n",
        "  for input_batch, target_batch in data_loader: #data_loader can take train or test dataset\n",
        "    predict_batch = model(input_batch)\n",
        "    prediction_classes = torch.argmax(predict_batch,dim=1)\n",
        "    # print(target_batch)\n",
        "\n",
        "    # accuracy = np.mean(prediction_classes.numpy() == target_batch.numpy())\n",
        "    wrong_pred += np.sum(prediction_classes.numpy() != target_batch.numpy())\n",
        "\n",
        "\n",
        "  print(f'number of evaluated data: {num_data}')\n",
        "  \n",
        "  print(f'number of wrongly predicted label: {wrong_pred}')\n",
        "\n",
        "\n",
        "  print(f'accuracy : {((num_data - wrong_pred)/num_data)*100:.2f}%')"
      ]
    },
    {
      "cell_type": "code",
      "execution_count": 73,
      "metadata": {},
      "outputs": [
        {
          "name": "stdout",
          "output_type": "stream",
          "text": [
            "number of evaluated data: 60000\n",
            "number of wrongly predicted label: 2624\n",
            "accuracy : 95.63%\n"
          ]
        }
      ],
      "source": [
        "model.eval() # sets the model in evaluation mode \n",
        "evaluate_model(train_loader)"
      ]
    },
    {
      "cell_type": "markdown",
      "metadata": {
        "id": "L_Fd3_fa8h2r"
      },
      "source": [
        "#11.Task: Evaluation of trained model on test data\n",
        "\n",
        "* Compute the overall accuracy of the test set. Note that you need a call to model.eval() - this sets the model into evaluation mode and supresses non-training things (gradients, and things such as dropout being applied/computed)."
      ]
    },
    {
      "cell_type": "code",
      "execution_count": 74,
      "metadata": {
        "id": "DPxdTCqbsqqI"
      },
      "outputs": [
        {
          "name": "stdout",
          "output_type": "stream",
          "text": [
            "number of evaluated data: 10000\n",
            "number of wrongly predicted label: 482\n",
            "accuracy : 95.18%\n"
          ]
        }
      ],
      "source": [
        "model.eval() # sets the model in evaluation mode \n",
        "evaluate_model(test_loader)"
      ]
    }
  ],
  "metadata": {
    "colab": {
      "authorship_tag": "ABX9TyOVvsXN0FN1TzpqgHLdzx40",
      "collapsed_sections": [],
      "name": "06b_MLP_MNIST_2021_22.ipynb",
      "provenance": []
    },
    "interpreter": {
      "hash": "3ced2f4eaaec4a5ad21e54a5682a43cb37ebcff431dffc69052d7e4efcca1b3f"
    },
    "kernelspec": {
      "display_name": "Python 3.9.6 64-bit",
      "language": "python",
      "name": "python3"
    },
    "language_info": {
      "codemirror_mode": {
        "name": "ipython",
        "version": 3
      },
      "file_extension": ".py",
      "mimetype": "text/x-python",
      "name": "python",
      "nbconvert_exporter": "python",
      "pygments_lexer": "ipython3",
      "version": "3.9.6"
    }
  },
  "nbformat": 4,
  "nbformat_minor": 0
}
